{
 "cells": [
  {
   "cell_type": "markdown",
   "metadata": {},
   "source": [
    "# Hadoop Installation and Testing\n",
    "\n",
    "> **WARNING: Be careful, the execution of this notebook can compromise your virtual machines. Do not execute any cell twice: please start from the very first cell if you have problems.**"
   ]
  },
  {
   "cell_type": "markdown",
   "metadata": {},
   "source": [
    "## 0. Prerequisites"
   ]
  },
  {
   "cell_type": "markdown",
   "metadata": {},
   "source": [
    "Load commands and files from `commands.py`."
   ]
  },
  {
   "cell_type": "code",
   "execution_count": 3,
   "metadata": {},
   "outputs": [],
   "source": [
    "%reload_ext autoreload\n",
    "%autoreload 1\n",
    "%aimport commands"
   ]
  },
  {
   "cell_type": "markdown",
   "metadata": {},
   "source": [
    "Functions we will use"
   ]
  },
  {
   "cell_type": "code",
   "execution_count": 4,
   "metadata": {},
   "outputs": [],
   "source": [
    "def run_ssh(host, *command):\n",
    "    \"\"\"\n",
    "    :param host: ip address\n",
    "    :type f: string\n",
    "    :param command: command to execute\n",
    "    :type command: string\n",
    "\n",
    "    Execute with SSH the commands on host as the 'hadoop' user, displaying information\n",
    "    \"\"\"\n",
    "    print('===== \\x1b[31m' + 'Started on ' + host + '\\x1b[0m =====')\n",
    "    for cmd in command:\n",
    "        print(cmd)\n",
    "        !ssh hadoop@{host} {cmd}\n",
    "    print('===== \\x1b[31m' + 'Completed on ' + host + '\\x1b[0m =====')"
   ]
  },
  {
   "cell_type": "markdown",
   "metadata": {},
   "source": [
    "**a.** Populate the following dictionary with the IP addresses (as keys) and the hostnames (as values) of all your virtual machines."
   ]
  },
  {
   "cell_type": "code",
   "execution_count": 5,
   "metadata": {
    "ExecuteTime": {
     "end_time": "2020-04-07T21:55:11.986338Z",
     "start_time": "2020-04-07T21:55:11.980489Z"
    }
   },
   "outputs": [],
   "source": [
    "VMS = {'172.16.0.225': 'hadoop-namenode',\n",
    "       '172.16.0.221': 'hadoop-datanode-2', \n",
    "       '172.16.0.224': 'hadoop-datanode-3'}"
   ]
  },
  {
   "cell_type": "markdown",
   "metadata": {},
   "source": [
    "**b.** Populate the following variable with the IP address of the virtual machine with the namenode role."
   ]
  },
  {
   "cell_type": "code",
   "execution_count": 6,
   "metadata": {
    "ExecuteTime": {
     "end_time": "2020-04-07T21:54:14.685117Z",
     "start_time": "2020-04-07T21:54:14.673997Z"
    }
   },
   "outputs": [],
   "source": [
    "NAMENODE_IP = '172.16.0.225'"
   ]
  },
  {
   "cell_type": "markdown",
   "metadata": {},
   "source": [
    "**c.** Populate the following variable with the IP address of the remaining virtual machines."
   ]
  },
  {
   "cell_type": "code",
   "execution_count": 7,
   "metadata": {},
   "outputs": [],
   "source": [
    "REMAINING_IPS = [\n",
    "    '172.16.0.221',\n",
    "    '172.16.0.224'\n",
    "]"
   ]
  },
  {
   "cell_type": "markdown",
   "metadata": {},
   "source": [
    "## 1. Download and install Hadoop\n",
    "---\n",
    "**a.** Download [hadoop-3.1.3.tar.gz](https://archive.apache.org/dist/hadoop/common/hadoop-3.1.3/hadoop-3.1.3.tar.gz) in your home folder on your virtual machines."
   ]
  },
  {
   "cell_type": "code",
   "execution_count": 8,
   "metadata": {
    "ExecuteTime": {
     "end_time": "2020-04-07T19:44:28.207459Z",
     "start_time": "2020-04-07T19:43:47.090004Z"
    },
    "scrolled": true
   },
   "outputs": [
    {
     "name": "stdout",
     "output_type": "stream",
     "text": [
      "===== \u001b[31mStarted on 172.16.0.225\u001b[0m =====\n",
      "wget --progress=bar:force -c -O /home/hadoop/hadoop.tar.gz https://archive.apache.org/dist/hadoop/common/hadoop-3.1.3/hadoop-3.1.3.tar.gz\n",
      "--2020-04-16 22:14:35--  https://archive.apache.org/dist/hadoop/common/hadoop-3.1.3/hadoop-3.1.3.tar.gz\n",
      "Resolving archive.apache.org (archive.apache.org)... 163.172.17.199\n",
      "Connecting to archive.apache.org (archive.apache.org)|163.172.17.199|:443... connected.\n",
      "HTTP request sent, awaiting response... 200 OK\n",
      "Length: 338075860 (322M) [application/x-gzip]\n",
      "Saving to: ‘/home/hadoop/hadoop.tar.gz’\n",
      "\n",
      "/home/hadoop/hadoop 100%[===================>] 322.41M  47.1MB/s    in 7.8s    \n",
      "\n",
      "2020-04-16 22:14:43 (41.6 MB/s) - ‘/home/hadoop/hadoop.tar.gz’ saved [338075860/338075860]\n",
      "\n",
      "===== \u001b[31mCompleted on 172.16.0.225\u001b[0m =====\n",
      "===== \u001b[31mStarted on 172.16.0.221\u001b[0m =====\n",
      "wget --progress=bar:force -c -O /home/hadoop/hadoop.tar.gz https://archive.apache.org/dist/hadoop/common/hadoop-3.1.3/hadoop-3.1.3.tar.gz\n",
      "--2020-04-16 22:14:44--  https://archive.apache.org/dist/hadoop/common/hadoop-3.1.3/hadoop-3.1.3.tar.gz\n",
      "Resolving archive.apache.org (archive.apache.org)... 163.172.17.199\n",
      "Connecting to archive.apache.org (archive.apache.org)|163.172.17.199|:443... connected.\n",
      "HTTP request sent, awaiting response... 200 OK\n",
      "Length: 338075860 (322M) [application/x-gzip]\n",
      "Saving to: ‘/home/hadoop/hadoop.tar.gz’\n",
      "\n",
      "/home/hadoop/hadoop 100%[===================>] 322.41M  51.0MB/s    in 8.8s    \n",
      "\n",
      "2020-04-16 22:14:53 (36.7 MB/s) - ‘/home/hadoop/hadoop.tar.gz’ saved [338075860/338075860]\n",
      "\n",
      "===== \u001b[31mCompleted on 172.16.0.221\u001b[0m =====\n",
      "===== \u001b[31mStarted on 172.16.0.224\u001b[0m =====\n",
      "wget --progress=bar:force -c -O /home/hadoop/hadoop.tar.gz https://archive.apache.org/dist/hadoop/common/hadoop-3.1.3/hadoop-3.1.3.tar.gz\n",
      "--2020-04-16 22:14:55--  https://archive.apache.org/dist/hadoop/common/hadoop-3.1.3/hadoop-3.1.3.tar.gz\n",
      "Resolving archive.apache.org (archive.apache.org)... 163.172.17.199\n",
      "Connecting to archive.apache.org (archive.apache.org)|163.172.17.199|:443... connected.\n",
      "HTTP request sent, awaiting response... 200 OK\n",
      "Length: 338075860 (322M) [application/x-gzip]\n",
      "Saving to: ‘/home/hadoop/hadoop.tar.gz’\n",
      "\n",
      "/home/hadoop/hadoop 100%[===================>] 322.41M  51.9MB/s    in 6.6s    \n",
      "\n",
      "2020-04-16 22:15:02 (48.6 MB/s) - ‘/home/hadoop/hadoop.tar.gz’ saved [338075860/338075860]\n",
      "\n",
      "===== \u001b[31mCompleted on 172.16.0.224\u001b[0m =====\n"
     ]
    }
   ],
   "source": [
    "for host in VMS:\n",
    "    run_ssh(host, commands.WGET_CMD)"
   ]
  },
  {
   "cell_type": "markdown",
   "metadata": {},
   "source": [
    "**b.** Decompress the Hadoop package you can use the following command:"
   ]
  },
  {
   "cell_type": "code",
   "execution_count": 9,
   "metadata": {
    "ExecuteTime": {
     "end_time": "2020-04-07T21:55:22.045210Z",
     "start_time": "2020-04-07T21:55:14.894132Z"
    }
   },
   "outputs": [
    {
     "name": "stdout",
     "output_type": "stream",
     "text": [
      "===== \u001b[31mStarted on 172.16.0.225\u001b[0m =====\n",
      "tar -xvf hadoop.tar.gz --directory=/opt/hadoop --exclude=hadoop-3.1.0/share/doc --strip 1 > /dev/null\n",
      "rm /home/hadoop/hadoop.tar.gz\n",
      "===== \u001b[31mCompleted on 172.16.0.225\u001b[0m =====\n",
      "===== \u001b[31mStarted on 172.16.0.221\u001b[0m =====\n",
      "tar -xvf hadoop.tar.gz --directory=/opt/hadoop --exclude=hadoop-3.1.0/share/doc --strip 1 > /dev/null\n",
      "rm /home/hadoop/hadoop.tar.gz\n",
      "===== \u001b[31mCompleted on 172.16.0.221\u001b[0m =====\n",
      "===== \u001b[31mStarted on 172.16.0.224\u001b[0m =====\n",
      "tar -xvf hadoop.tar.gz --directory=/opt/hadoop --exclude=hadoop-3.1.0/share/doc --strip 1 > /dev/null\n",
      "rm /home/hadoop/hadoop.tar.gz\n",
      "===== \u001b[31mCompleted on 172.16.0.224\u001b[0m =====\n"
     ]
    }
   ],
   "source": [
    "for host in VMS:\n",
    "    run_ssh(host, commands.TAR_CMD, commands.RM_CMD)"
   ]
  },
  {
   "cell_type": "markdown",
   "metadata": {},
   "source": [
    "**c.** There are environment settings that will be used by Hadoop. The following commands append the correct environment variables to your `/home/hadoop/.bashrc` files:"
   ]
  },
  {
   "cell_type": "code",
   "execution_count": 10,
   "metadata": {
    "ExecuteTime": {
     "end_time": "2020-04-07T21:55:32.077891Z",
     "start_time": "2020-04-07T21:55:28.999693Z"
    }
   },
   "outputs": [],
   "source": [
    "for host in VMS:\n",
    "    !ssh hadoop@{host} 'printf \"%s\\n\" {commands.get_bashrc()} >> ~/.bashrc'"
   ]
  },
  {
   "cell_type": "markdown",
   "metadata": {},
   "source": [
    "**d.** The following commands check Hadoop installation (you should see no errors):"
   ]
  },
  {
   "cell_type": "code",
   "execution_count": 11,
   "metadata": {
    "ExecuteTime": {
     "end_time": "2020-04-07T21:55:37.983835Z",
     "start_time": "2020-04-07T21:55:33.556465Z"
    }
   },
   "outputs": [
    {
     "name": "stdout",
     "output_type": "stream",
     "text": [
      "===== \u001b[31mStarted on 172.16.0.225\u001b[0m =====\n",
      "hadoop version\n",
      "Hadoop 3.1.3\n",
      "Source code repository https://gitbox.apache.org/repos/asf/hadoop.git -r ba631c436b806728f8ec2f54ab1e289526c90579\n",
      "Compiled by ztang on 2019-09-12T02:47Z\n",
      "Compiled with protoc 2.5.0\n",
      "From source with checksum ec785077c385118ac91aadde5ec9799\n",
      "This command was run using /opt/hadoop/share/hadoop/common/hadoop-common-3.1.3.jar\n",
      "===== \u001b[31mCompleted on 172.16.0.225\u001b[0m =====\n",
      "===== \u001b[31mStarted on 172.16.0.221\u001b[0m =====\n",
      "hadoop version\n",
      "Hadoop 3.1.3\n",
      "Source code repository https://gitbox.apache.org/repos/asf/hadoop.git -r ba631c436b806728f8ec2f54ab1e289526c90579\n",
      "Compiled by ztang on 2019-09-12T02:47Z\n",
      "Compiled with protoc 2.5.0\n",
      "From source with checksum ec785077c385118ac91aadde5ec9799\n",
      "This command was run using /opt/hadoop/share/hadoop/common/hadoop-common-3.1.3.jar\n",
      "===== \u001b[31mCompleted on 172.16.0.221\u001b[0m =====\n",
      "===== \u001b[31mStarted on 172.16.0.224\u001b[0m =====\n",
      "hadoop version\n",
      "Hadoop 3.1.3\n",
      "Source code repository https://gitbox.apache.org/repos/asf/hadoop.git -r ba631c436b806728f8ec2f54ab1e289526c90579\n",
      "Compiled by ztang on 2019-09-12T02:47Z\n",
      "Compiled with protoc 2.5.0\n",
      "From source with checksum ec785077c385118ac91aadde5ec9799\n",
      "This command was run using /opt/hadoop/share/hadoop/common/hadoop-common-3.1.3.jar\n",
      "===== \u001b[31mCompleted on 172.16.0.224\u001b[0m =====\n"
     ]
    }
   ],
   "source": [
    "for host in VMS:\n",
    "    run_ssh(host, 'hadoop version')"
   ]
  },
  {
   "cell_type": "markdown",
   "metadata": {},
   "source": [
    "# 2. Configure the namenode"
   ]
  },
  {
   "cell_type": "markdown",
   "metadata": {},
   "source": [
    "**a.** Update the `core-site.xml` file located at `/opt/hadoop/etc/hadoop/` to define the name node URI on this machine."
   ]
  },
  {
   "cell_type": "code",
   "execution_count": 12,
   "metadata": {
    "ExecuteTime": {
     "end_time": "2020-04-07T22:07:53.169774Z",
     "start_time": "2020-04-07T22:07:52.007599Z"
    }
   },
   "outputs": [],
   "source": [
    "!ssh hadoop@{NAMENODE_IP} 'printf \"%s\\n\" {commands.get_namenode_core_site(VMS[NAMENODE_IP])} > /opt/hadoop/etc/hadoop/core-site.xml'"
   ]
  },
  {
   "cell_type": "markdown",
   "metadata": {},
   "source": [
    "**b.** Update the `hdfs-site.xml` file located at `/opt/hadoop/etc/hadoop/` to define the path on the local filesystem where the name node stores the namespace and transactions logs persistently and to configure the HDFS subsystem."
   ]
  },
  {
   "cell_type": "code",
   "execution_count": 13,
   "metadata": {
    "ExecuteTime": {
     "end_time": "2020-04-07T22:10:07.811788Z",
     "start_time": "2020-04-07T22:10:03.228836Z"
    }
   },
   "outputs": [],
   "source": [
    "!ssh hadoop@{NAMENODE_IP} 'printf \"%s\\n\" {commands.get_namenode_hdfs_site()} > /opt/hadoop/etc/hadoop/hdfs-site.xml'"
   ]
  },
  {
   "cell_type": "markdown",
   "metadata": {},
   "source": [
    "**c.** Update the `yarn-site.xml` file located at `/opt/hadoop/etc/hadoop` to configure the YARN subsystem."
   ]
  },
  {
   "cell_type": "code",
   "execution_count": 14,
   "metadata": {
    "ExecuteTime": {
     "end_time": "2020-04-07T22:11:08.241162Z",
     "start_time": "2020-04-07T22:11:07.094038Z"
    }
   },
   "outputs": [],
   "source": [
    "!ssh hadoop@{NAMENODE_IP} 'printf \"%s\\n\" {commands.get_namenode_yarn_site()} > /opt/hadoop/etc/hadoop/yarn-site.xml'"
   ]
  },
  {
   "cell_type": "markdown",
   "metadata": {},
   "source": [
    "**d.** Update the `mapred-site.xml` file located at `/opt/hadoop/etc/hadoop` to configure the MAPREDUCE subsystem."
   ]
  },
  {
   "cell_type": "code",
   "execution_count": 15,
   "metadata": {
    "ExecuteTime": {
     "end_time": "2020-04-07T22:11:10.387867Z",
     "start_time": "2020-04-07T22:11:09.326366Z"
    }
   },
   "outputs": [],
   "source": [
    "!ssh hadoop@{NAMENODE_IP} 'printf \"%s\\n\" {commands.get_namenode_mapred_site(VMS[NAMENODE_IP])} > /opt/hadoop/etc/hadoop/mapred-site.xml'"
   ]
  },
  {
   "cell_type": "markdown",
   "metadata": {},
   "source": [
    "**e.** Update the `workers` file located in `/opt/hadoop/etc/hadoop` to define the MAPREDUCE workers."
   ]
  },
  {
   "cell_type": "code",
   "execution_count": 16,
   "metadata": {
    "ExecuteTime": {
     "end_time": "2020-04-07T22:17:40.521472Z",
     "start_time": "2020-04-07T22:17:39.217530Z"
    }
   },
   "outputs": [],
   "source": [
    "!ssh hadoop@{NAMENODE_IP} 'printf \"%s\\n\" {commands.get_workers(VMS)} > /opt/hadoop/etc/hadoop/workers'"
   ]
  },
  {
   "cell_type": "markdown",
   "metadata": {},
   "source": [
    "## 3. Configure the datanodes"
   ]
  },
  {
   "cell_type": "markdown",
   "metadata": {},
   "source": [
    "**a.** Update the `core-site.xml` file located at `/opt/hadoop/etc/hadoop/` to define the name node URI on thie other datanodes."
   ]
  },
  {
   "cell_type": "code",
   "execution_count": 17,
   "metadata": {},
   "outputs": [],
   "source": [
    "for host in REMAINING_IPS:\n",
    "    !ssh hadoop@{host} 'printf \"%s\\n\" {commands.get_datanode_core_site(VMS[NAMENODE_IP])} > /opt/hadoop/etc/hadoop/core-site.xml'"
   ]
  },
  {
   "cell_type": "markdown",
   "metadata": {},
   "source": [
    "**b.** Update the `hdfs-site.xml` file located at `/opt/hadoop/etc/hadoop/` to configure the HDFS subsystem."
   ]
  },
  {
   "cell_type": "code",
   "execution_count": 18,
   "metadata": {},
   "outputs": [],
   "source": [
    "for host in REMAINING_IPS:\n",
    "    !ssh hadoop@{host} 'printf \"%s\\n\" {commands.get_datanode_hdfs_site()} > /opt/hadoop/etc/hadoop/hdfs-site.xml'"
   ]
  },
  {
   "cell_type": "markdown",
   "metadata": {},
   "source": [
    "**c.** Update the `yarn-site.xml` file located at `/opt/hadoop/etc/hadoop` to configure the YARN subsystem."
   ]
  },
  {
   "cell_type": "code",
   "execution_count": 19,
   "metadata": {},
   "outputs": [],
   "source": [
    "for host in REMAINING_IPS:\n",
    "    !ssh hadoop@{host} 'printf \"%s\\n\" {commands.get_datanode_yarn_site()} > /opt/hadoop/etc/hadoop/yarn-site.xml'"
   ]
  },
  {
   "cell_type": "markdown",
   "metadata": {},
   "source": [
    "**d.** Update the `mapred-site.xml` file located at `/opt/hadoop/etc/hadoop` to configure the MAPREDUCE subsystem."
   ]
  },
  {
   "cell_type": "code",
   "execution_count": 20,
   "metadata": {},
   "outputs": [],
   "source": [
    "for host in REMAINING_IPS:\n",
    "    !ssh hadoop@{host} 'printf \"%s\\n\" {commands.get_datanode_mapred_site()} > /opt/hadoop/etc/hadoop/mdapred-site.xml'"
   ]
  },
  {
   "cell_type": "markdown",
   "metadata": {},
   "source": [
    "## 4. Start, test and stop Hadoop"
   ]
  },
  {
   "cell_type": "markdown",
   "metadata": {},
   "source": [
    "Delete the contents of the local HDFS file system.\n",
    "Note: **This causes the loss of all information stored in HDFS**."
   ]
  },
  {
   "cell_type": "code",
   "execution_count": 21,
   "metadata": {},
   "outputs": [
    {
     "name": "stdout",
     "output_type": "stream",
     "text": [
      "Stopping namenodes on [hadoop-namenode]\n",
      "Stopping datanodes\n",
      "Stopping secondary namenodes [hadoop-namenode]\n"
     ]
    }
   ],
   "source": [
    "for host in VMS:\n",
    "    run_ssh(host, 'rm -rf /opt/hdfs/namenode/*')\n",
    "    run_ssh(host, 'rm -rf /opt/hdfs/datanode/*')\n",
    "    \n",
    "host = NAMENODE_IP\n",
    "!ssh hadoop@{host} 'stop-dfs.sh'"
   ]
  },
  {
   "cell_type": "markdown",
   "metadata": {},
   "source": [
    "Format the HDFS filesystem at the namenode."
   ]
  },
  {
   "cell_type": "code",
   "execution_count": 22,
   "metadata": {},
   "outputs": [
    {
     "name": "stdout",
     "output_type": "stream",
     "text": [
      "2020-04-16 22:16:54,966 INFO namenode.NameNode: STARTUP_MSG: \r\n",
      "/************************************************************\r\n",
      "STARTUP_MSG: Starting NameNode\r\n",
      "STARTUP_MSG:   host = hadoop-namenode/172.16.0.225\r\n",
      "STARTUP_MSG:   args = [-format, -force]\r\n",
      "STARTUP_MSG:   version = 3.1.3\r\n"
     ]
    },
    {
     "name": "stdout",
     "output_type": "stream",
     "text": [
      "STARTUP_MSG:   classpath = /opt/hadoop/etc/hadoop:/opt/hadoop/share/hadoop/common/lib/jersey-json-1.19.jar:/opt/hadoop/share/hadoop/common/lib/jackson-jaxrs-1.9.13.jar:/opt/hadoop/share/hadoop/common/lib/jackson-annotations-2.7.8.jar:/opt/hadoop/share/hadoop/common/lib/netty-3.10.5.Final.jar:/opt/hadoop/share/hadoop/common/lib/commons-logging-1.1.3.jar:/opt/hadoop/share/hadoop/common/lib/jetty-security-9.3.24.v20180605.jar:/opt/hadoop/share/hadoop/common/lib/re2j-1.1.jar:/opt/hadoop/share/hadoop/common/lib/error_prone_annotations-2.2.0.jar:/opt/hadoop/share/hadoop/common/lib/jackson-databind-2.7.8.jar:/opt/hadoop/share/hadoop/common/lib/slf4j-log4j12-1.7.25.jar:/opt/hadoop/share/hadoop/common/lib/jetty-util-9.3.24.v20180605.jar:/opt/hadoop/share/hadoop/common/lib/metrics-core-3.2.4.jar:/opt/hadoop/share/hadoop/common/lib/commons-configuration2-2.1.1.jar:/opt/hadoop/share/hadoop/common/lib/woodstox-core-5.0.3.jar:/opt/hadoop/share/hadoop/common/lib/gson-2.2.4.jar:/opt/hadoop/share/hadoop/common/lib/jackson-core-asl-1.9.13.jar:/opt/hadoop/share/hadoop/common/lib/jersey-servlet-1.19.jar:/opt/hadoop/share/hadoop/common/lib/slf4j-api-1.7.25.jar:/opt/hadoop/share/hadoop/common/lib/htrace-core4-4.1.0-incubating.jar:/opt/hadoop/share/hadoop/common/lib/zookeeper-3.4.13.jar:/opt/hadoop/share/hadoop/common/lib/commons-beanutils-1.9.3.jar:/opt/hadoop/share/hadoop/common/lib/curator-client-2.13.0.jar:/opt/hadoop/share/hadoop/common/lib/commons-cli-1.2.jar:/opt/hadoop/share/hadoop/common/lib/protobuf-java-2.5.0.jar:/opt/hadoop/share/hadoop/common/lib/jersey-server-1.19.jar:/opt/hadoop/share/hadoop/common/lib/curator-framework-2.13.0.jar:/opt/hadoop/share/hadoop/common/lib/checker-qual-2.5.2.jar:/opt/hadoop/share/hadoop/common/lib/commons-math3-3.1.1.jar:/opt/hadoop/share/hadoop/common/lib/jsp-api-2.1.jar:/opt/hadoop/share/hadoop/common/lib/kerb-admin-1.0.1.jar:/opt/hadoop/share/hadoop/common/lib/kerb-identity-1.0.1.jar:/opt/hadoop/share/hadoop/common/lib/commons-lang3-3.4.jar:/opt/hadoop/share/hadoop/common/lib/hadoop-annotations-3.1.3.jar:/opt/hadoop/share/hadoop/common/lib/jetty-http-9.3.24.v20180605.jar:/opt/hadoop/share/hadoop/common/lib/commons-net-3.6.jar:/opt/hadoop/share/hadoop/common/lib/kerb-util-1.0.1.jar:/opt/hadoop/share/hadoop/common/lib/log4j-1.2.17.jar:/opt/hadoop/share/hadoop/common/lib/stax2-api-3.1.4.jar:/opt/hadoop/share/hadoop/common/lib/token-provider-1.0.1.jar:/opt/hadoop/share/hadoop/common/lib/listenablefuture-9999.0-empty-to-avoid-conflict-with-guava.jar:/opt/hadoop/share/hadoop/common/lib/jetty-servlet-9.3.24.v20180605.jar:/opt/hadoop/share/hadoop/common/lib/audience-annotations-0.5.0.jar:/opt/hadoop/share/hadoop/common/lib/jettison-1.1.jar:/opt/hadoop/share/hadoop/common/lib/commons-lang-2.6.jar:/opt/hadoop/share/hadoop/common/lib/kerby-asn1-1.0.1.jar:/opt/hadoop/share/hadoop/common/lib/jaxb-impl-2.2.3-1.jar:/opt/hadoop/share/hadoop/common/lib/commons-compress-1.18.jar:/opt/hadoop/share/hadoop/common/lib/guava-27.0-jre.jar:/opt/hadoop/share/hadoop/common/lib/jetty-xml-9.3.24.v20180605.jar:/opt/hadoop/share/hadoop/common/lib/jackson-mapper-asl-1.9.13.jar:/opt/hadoop/share/hadoop/common/lib/kerb-simplekdc-1.0.1.jar:/opt/hadoop/share/hadoop/common/lib/jcip-annotations-1.0-1.jar:/opt/hadoop/share/hadoop/common/lib/jersey-core-1.19.jar:/opt/hadoop/share/hadoop/common/lib/httpclient-4.5.2.jar:/opt/hadoop/share/hadoop/common/lib/kerby-util-1.0.1.jar:/opt/hadoop/share/hadoop/common/lib/javax.servlet-api-3.1.0.jar:/opt/hadoop/share/hadoop/common/lib/jetty-webapp-9.3.24.v20180605.jar:/opt/hadoop/share/hadoop/common/lib/paranamer-2.3.jar:/opt/hadoop/share/hadoop/common/lib/avro-1.7.7.jar:/opt/hadoop/share/hadoop/common/lib/commons-codec-1.11.jar:/opt/hadoop/share/hadoop/common/lib/kerby-pkix-1.0.1.jar:/opt/hadoop/share/hadoop/common/lib/curator-recipes-2.13.0.jar:/opt/hadoop/share/hadoop/common/lib/jul-to-slf4j-1.7.25.jar:/opt/hadoop/share/hadoop/common/lib/jaxb-api-2.2.11.jar:/opt/hadoop/share/hadoop/common/lib/hadoop-auth-3.1.3.jar:/opt/hadoop/share/hadoop/common/lib/nimbus-jose-jwt-4.41.1.jar:/opt/hadoop/share/hadoop/common/lib/snappy-java-1.0.5.jar:/opt/hadoop/share/hadoop/common/lib/jsr305-3.0.0.jar:/opt/hadoop/share/hadoop/common/lib/kerby-xdr-1.0.1.jar:/opt/hadoop/share/hadoop/common/lib/kerb-common-1.0.1.jar:/opt/hadoop/share/hadoop/common/lib/jsr311-api-1.1.1.jar:/opt/hadoop/share/hadoop/common/lib/jetty-io-9.3.24.v20180605.jar:/opt/hadoop/share/hadoop/common/lib/jetty-server-9.3.24.v20180605.jar:/opt/hadoop/share/hadoop/common/lib/kerby-config-1.0.1.jar:/opt/hadoop/share/hadoop/common/lib/kerb-client-1.0.1.jar:/opt/hadoop/share/hadoop/common/lib/kerb-server-1.0.1.jar:/opt/hadoop/share/hadoop/common/lib/kerb-core-1.0.1.jar:/opt/hadoop/share/hadoop/common/lib/jsch-0.1.54.jar:/opt/hadoop/share/hadoop/common/lib/jackson-xc-1.9.13.jar:/opt/hadoop/share/hadoop/common/lib/httpcore-4.4.4.jar:/opt/hadoop/share/hadoop/common/lib/jackson-core-2.7.8.jar:/opt/hadoop/share/hadoop/common/lib/animal-sniffer-annotations-1.17.jar:/opt/hadoop/share/hadoop/common/lib/commons-io-2.5.jar:/opt/hadoop/share/hadoop/common/lib/accessors-smart-1.2.jar:/opt/hadoop/share/hadoop/common/lib/json-smart-2.3.jar:/opt/hadoop/share/hadoop/common/lib/failureaccess-1.0.jar:/opt/hadoop/share/hadoop/common/lib/commons-collections-3.2.2.jar:/opt/hadoop/share/hadoop/common/lib/j2objc-annotations-1.1.jar:/opt/hadoop/share/hadoop/common/lib/kerb-crypto-1.0.1.jar:/opt/hadoop/share/hadoop/common/lib/asm-5.0.4.jar:/opt/hadoop/share/hadoop/common/hadoop-nfs-3.1.3.jar:/opt/hadoop/share/hadoop/common/hadoop-common-3.1.3-tests.jar:/opt/hadoop/share/hadoop/common/hadoop-common-3.1.3.jar:/opt/hadoop/share/hadoop/common/hadoop-kms-3.1.3.jar:/opt/hadoop/share/hadoop/hdfs:/opt/hadoop/share/hadoop/hdfs/lib/jersey-json-1.19.jar:/opt/hadoop/share/hadoop/hdfs/lib/jackson-jaxrs-1.9.13.jar:/opt/hadoop/share/hadoop/hdfs/lib/jackson-annotations-2.7.8.jar:/opt/hadoop/share/hadoop/hdfs/lib/netty-3.10.5.Final.jar:/opt/hadoop/share/hadoop/hdfs/lib/commons-logging-1.1.3.jar:/opt/hadoop/share/hadoop/hdfs/lib/jetty-security-9.3.24.v20180605.jar:/opt/hadoop/share/hadoop/hdfs/lib/re2j-1.1.jar:/opt/hadoop/share/hadoop/hdfs/lib/error_prone_annotations-2.2.0.jar:/opt/hadoop/share/hadoop/hdfs/lib/jackson-databind-2.7.8.jar:/opt/hadoop/share/hadoop/hdfs/lib/jetty-util-9.3.24.v20180605.jar:/opt/hadoop/share/hadoop/hdfs/lib/commons-configuration2-2.1.1.jar:/opt/hadoop/share/hadoop/hdfs/lib/woodstox-core-5.0.3.jar:/opt/hadoop/share/hadoop/hdfs/lib/json-simple-1.1.1.jar:/opt/hadoop/share/hadoop/hdfs/lib/gson-2.2.4.jar:/opt/hadoop/share/hadoop/hdfs/lib/jackson-core-asl-1.9.13.jar:/opt/hadoop/share/hadoop/hdfs/lib/jersey-servlet-1.19.jar:/opt/hadoop/share/hadoop/hdfs/lib/okhttp-2.7.5.jar:/opt/hadoop/share/hadoop/hdfs/lib/htrace-core4-4.1.0-incubating.jar:/opt/hadoop/share/hadoop/hdfs/lib/zookeeper-3.4.13.jar:/opt/hadoop/share/hadoop/hdfs/lib/commons-beanutils-1.9.3.jar:/opt/hadoop/share/hadoop/hdfs/lib/curator-client-2.13.0.jar:/opt/hadoop/share/hadoop/hdfs/lib/commons-cli-1.2.jar:/opt/hadoop/share/hadoop/hdfs/lib/protobuf-java-2.5.0.jar:/opt/hadoop/share/hadoop/hdfs/lib/jersey-server-1.19.jar:/opt/hadoop/share/hadoop/hdfs/lib/curator-framework-2.13.0.jar:/opt/hadoop/share/hadoop/hdfs/lib/checker-qual-2.5.2.jar:/opt/hadoop/share/hadoop/hdfs/lib/commons-math3-3.1.1.jar:/opt/hadoop/share/hadoop/hdfs/lib/kerb-admin-1.0.1.jar:/opt/hadoop/share/hadoop/hdfs/lib/kerb-identity-1.0.1.jar:/opt/hadoop/share/hadoop/hdfs/lib/commons-lang3-3.4.jar:/opt/hadoop/share/hadoop/hdfs/lib/hadoop-annotations-3.1.3.jar:/opt/hadoop/share/hadoop/hdfs/lib/jetty-http-9.3.24.v20180605.jar:/opt/hadoop/share/hadoop/hdfs/lib/commons-net-3.6.jar:/opt/hadoop/share/hadoop/hdfs/lib/kerb-util-1.0.1.jar:/opt/hadoop/share/hadoop/hdfs/lib/log4j-1.2.17.jar:/opt/hadoop/share/hadoop/hdfs/lib/stax2-api-3.1.4.jar:/opt/hadoop/share/hadoop/hdfs/lib/token-provider-1.0.1.jar:/opt/hadoop/share/hadoop/hdfs/lib/listenablefuture-9999.0-empty-to-avoid-conflict-with-guava.jar:/opt/hadoop/share/hadoop/hdfs/lib/jetty-servlet-9.3.24.v20180605.jar:/opt/hadoop/share/hadoop/hdfs/lib/leveldbjni-all-1.8.jar:/opt/hadoop/share/hadoop/hdfs/lib/audience-annotations-0.5.0.jar:/opt/hadoop/share/hadoop/hdfs/lib/jettison-1.1.jar:/opt/hadoop/share/hadoop/hdfs/lib/commons-lang-2.6.jar:/opt/hadoop/share/hadoop/hdfs/lib/kerby-asn1-1.0.1.jar:/opt/hadoop/share/hadoop/hdfs/lib/jaxb-impl-2.2.3-1.jar:/opt/hadoop/share/hadoop/hdfs/lib/commons-compress-1.18.jar:/opt/hadoop/share/hadoop/hdfs/lib/guava-27.0-jre.jar:/opt/hadoop/share/hadoop/hdfs/lib/jetty-xml-9.3.24.v20180605.jar:/opt/hadoop/share/hadoop/hdfs/lib/jackson-mapper-asl-1.9.13.jar:/opt/hadoop/share/hadoop/hdfs/lib/commons-daemon-1.0.13.jar:/opt/hadoop/share/hadoop/hdfs/lib/kerb-simplekdc-1.0.1.jar:/opt/hadoop/share/hadoop/hdfs/lib/jcip-annotations-1.0-1.jar:/opt/hadoop/share/hadoop/hdfs/lib/jersey-core-1.19.jar:/opt/hadoop/share/hadoop/hdfs/lib/httpclient-4.5.2.jar:/opt/hadoop/share/hadoop/hdfs/lib/kerby-util-1.0.1.jar:/opt/hadoop/share/hadoop/hdfs/lib/okio-1.6.0.jar:/opt/hadoop/share/hadoop/hdfs/lib/javax.servlet-api-3.1.0.jar:/opt/hadoop/share/hadoop/hdfs/lib/jetty-webapp-9.3.24.v20180605.jar:/opt/hadoop/share/hadoop/hdfs/lib/paranamer-2.3.jar:/opt/hadoop/share/hadoop/hdfs/lib/avro-1.7.7.jar:/opt/hadoop/share/hadoop/hdfs/lib/commons-codec-1.11.jar:/opt/hadoop/share/hadoop/hdfs/lib/kerby-pkix-1.0.1.jar:/opt/hadoop/share/hadoop/hdfs/lib/curator-recipes-2.13.0.jar:/opt/hadoop/share/hadoop/hdfs/lib/jaxb-api-2.2.11.jar:/opt/hadoop/share/hadoop/hdfs/lib/hadoop-auth-3.1.3.jar:/opt/hadoop/share/hadoop/hdfs/lib/nimbus-jose-jwt-4.41.1.jar:/opt/hadoop/share/hadoop/hdfs/lib/snappy-java-1.0.5.jar:/opt/hadoop/share/hadoop/hdfs/lib/jsr305-3.0.0.jar:/opt/hadoop/share/hadoop/hdfs/lib/kerby-xdr-1.0.1.jar:/opt/hadoop/share/hadoop/hdfs/lib/kerb-common-1.0.1.jar:/opt/hadoop/share/hadoop/hdfs/lib/jsr311-api-1.1.1.jar:/opt/hadoop/share/hadoop/hdfs/lib/jetty-io-9.3.24.v20180605.jar:/opt/hadoop/share/hadoop/hdfs/lib/jetty-server-9.3.24.v20180605.jar:/opt/hadoop/share/hadoop/hdfs/lib/kerby-config-1.0.1.jar:/opt/hadoop/share/hadoop/hdfs/lib/kerb-client-1.0.1.jar:/opt/hadoop/share/hadoop/hdfs/lib/kerb-server-1.0.1.jar:/opt/hadoop/share/hadoop/hdfs/lib/netty-all-4.0.52.Final.jar:/opt/hadoop/share/hadoop/hdfs/lib/kerb-core-1.0.1.jar:/opt/hadoop/share/hadoop/hdfs/lib/jsch-0.1.54.jar:/opt/hadoop/share/hadoop/hdfs/lib/jackson-xc-1.9.13.jar:/opt/hadoop/share/hadoop/hdfs/lib/httpcore-4.4.4.jar:/opt/hadoop/share/hadoop/hdfs/lib/jetty-util-ajax-9.3.24.v20180605.jar:/opt/hadoop/share/hadoop/hdfs/lib/jackson-core-2.7.8.jar:/opt/hadoop/share/hadoop/hdfs/lib/animal-sniffer-annotations-1.17.jar:/opt/hadoop/share/hadoop/hdfs/lib/commons-io-2.5.jar:/opt/hadoop/share/hadoop/hdfs/lib/accessors-smart-1.2.jar:/opt/hadoop/share/hadoop/hdfs/lib/json-smart-2.3.jar:/opt/hadoop/share/hadoop/hdfs/lib/failureaccess-1.0.jar:/opt/hadoop/share/hadoop/hdfs/lib/commons-collections-3.2.2.jar:/opt/hadoop/share/hadoop/hdfs/lib/j2objc-annotations-1.1.jar:/opt/hadoop/share/hadoop/hdfs/lib/kerb-crypto-1.0.1.jar:/opt/hadoop/share/hadoop/hdfs/lib/asm-5.0.4.jar:/opt/hadoop/share/hadoop/hdfs/hadoop-hdfs-nfs-3.1.3.jar:/opt/hadoop/share/hadoop/hdfs/hadoop-hdfs-client-3.1.3.jar:/opt/hadoop/share/hadoop/hdfs/hadoop-hdfs-3.1.3-tests.jar:/opt/hadoop/share/hadoop/hdfs/hadoop-hdfs-native-client-3.1.3-tests.jar:/opt/hadoop/share/hadoop/hdfs/hadoop-hdfs-client-3.1.3-tests.jar:/opt/hadoop/share/hadoop/hdfs/hadoop-hdfs-native-client-3.1.3.jar:/opt/hadoop/share/hadoop/hdfs/hadoop-hdfs-rbf-3.1.3-tests.jar:/opt/hadoop/share/hadoop/hdfs/hadoop-hdfs-3.1.3.jar:/opt/hadoop/share/hadoop/hdfs/hadoop-hdfs-httpfs-3.1.3.jar:/opt/hadoop/share/hadoop/hdfs/hadoop-hdfs-rbf-3.1.3.jar:/opt/hadoop/share/hadoop/mapreduce/lib/hamcrest-core-1.3.jar:/opt/hadoop/share/hadoop/mapreduce/lib/junit-4.11.jar:/opt/hadoop/share/hadoop/mapreduce/hadoop-mapreduce-client-core-3.1.3.jar:/opt/hadoop/share/hadoop/mapreduce/hadoop-mapreduce-client-app-3.1.3.jar:/opt/hadoop/share/hadoop/mapreduce/hadoop-mapreduce-client-shuffle-3.1.3.jar:/opt/hadoop/share/hadoop/mapreduce/hadoop-mapreduce-client-nativetask-3.1.3.jar:/opt/hadoop/share/hadoop/mapreduce/hadoop-mapreduce-client-uploader-3.1.3.jar:/opt/hadoop/share/hadoop/mapreduce/hadoop-mapreduce-client-jobclient-3.1.3-tests.jar:/opt/hadoop/share/hadoop/mapreduce/hadoop-mapreduce-client-hs-plugins-3.1.3.jar:/opt/hadoop/share/hadoop/mapreduce/hadoop-mapreduce-client-jobclient-3.1.3.jar:/opt/hadoop/share/hadoop/mapreduce/hadoop-mapreduce-examples-3.1.3.jar:/opt/hadoop/share/hadoop/mapreduce/hadoop-mapreduce-client-common-3.1.3.jar:/opt/hadoop/share/hadoop/mapreduce/hadoop-mapreduce-client-hs-3.1.3.jar:/opt/hadoop/share/hadoop/yarn:/opt/hadoop/share/hadoop/yarn/lib/ehcache-3.3.1.jar:/opt/hadoop/share/hadoop/yarn/lib/metrics-core-3.2.4.jar:/opt/hadoop/share/hadoop/yarn/lib/guice-servlet-4.0.jar:/opt/hadoop/share/hadoop/yarn/lib/json-io-2.5.1.jar:/opt/hadoop/share/hadoop/yarn/lib/guice-4.0.jar:/opt/hadoop/share/hadoop/yarn/lib/jackson-module-jaxb-annotations-2.7.8.jar:/opt/hadoop/share/hadoop/yarn/lib/snakeyaml-1.16.jar:/opt/hadoop/share/hadoop/yarn/lib/HikariCP-java7-2.4.12.jar:/opt/hadoop/share/hadoop/yarn/lib/fst-2.50.jar:/opt/hadoop/share/hadoop/yarn/lib/jackson-jaxrs-base-2.7.8.jar:/opt/hadoop/share/hadoop/yarn/lib/mssql-jdbc-6.2.1.jre7.jar:/opt/hadoop/share/hadoop/yarn/lib/java-util-1.9.0.jar:/opt/hadoop/share/hadoop/yarn/lib/jersey-guice-1.19.jar:/opt/hadoop/share/hadoop/yarn/lib/aopalliance-1.0.jar:/opt/hadoop/share/hadoop/yarn/lib/jersey-client-1.19.jar:/opt/hadoop/share/hadoop/yarn/lib/jackson-jaxrs-json-provider-2.7.8.jar:/opt/hadoop/share/hadoop/yarn/lib/swagger-annotations-1.5.4.jar:/opt/hadoop/share/hadoop/yarn/lib/geronimo-jcache_1.0_spec-1.0-alpha-1.jar:/opt/hadoop/share/hadoop/yarn/lib/javax.inject-1.jar:/opt/hadoop/share/hadoop/yarn/lib/dnsjava-2.1.7.jar:/opt/hadoop/share/hadoop/yarn/lib/objenesis-1.0.jar:/opt/hadoop/share/hadoop/yarn/hadoop-yarn-client-3.1.3.jar:/opt/hadoop/share/hadoop/yarn/hadoop-yarn-services-api-3.1.3.jar:/opt/hadoop/share/hadoop/yarn/hadoop-yarn-server-router-3.1.3.jar:/opt/hadoop/share/hadoop/yarn/hadoop-yarn-common-3.1.3.jar:/opt/hadoop/share/hadoop/yarn/hadoop-yarn-server-nodemanager-3.1.3.jar:/opt/hadoop/share/hadoop/yarn/hadoop-yarn-server-common-3.1.3.jar:/opt/hadoop/share/hadoop/yarn/hadoop-yarn-services-core-3.1.3.jar:/opt/hadoop/share/hadoop/yarn/hadoop-yarn-server-sharedcachemanager-3.1.3.jar:/opt/hadoop/share/hadoop/yarn/hadoop-yarn-api-3.1.3.jar:/opt/hadoop/share/hadoop/yarn/hadoop-yarn-server-web-proxy-3.1.3.jar:/opt/hadoop/share/hadoop/yarn/hadoop-yarn-server-resourcemanager-3.1.3.jar:/opt/hadoop/share/hadoop/yarn/hadoop-yarn-server-timeline-pluginstorage-3.1.3.jar:/opt/hadoop/share/hadoop/yarn/hadoop-yarn-server-tests-3.1.3.jar:/opt/hadoop/share/hadoop/yarn/hadoop-yarn-applications-unmanaged-am-launcher-3.1.3.jar:/opt/hadoop/share/hadoop/yarn/hadoop-yarn-applications-distributedshell-3.1.3.jar:/opt/hadoop/share/hadoop/yarn/hadoop-yarn-server-applicationhistoryservice-3.1.3.jar:/opt/hadoop/share/hadoop/yarn/hadoop-yarn-registry-3.1.3.jar\r\n",
      "STARTUP_MSG:   build = https://gitbox.apache.org/repos/asf/hadoop.git -r ba631c436b806728f8ec2f54ab1e289526c90579; compiled by 'ztang' on 2019-09-12T02:47Z\r\n",
      "STARTUP_MSG:   java = 1.8.0_242\r\n",
      "************************************************************/\r\n",
      "2020-04-16 22:16:55,050 INFO namenode.NameNode: registered UNIX signal handlers for [TERM, HUP, INT]\r\n"
     ]
    },
    {
     "name": "stdout",
     "output_type": "stream",
     "text": [
      "2020-04-16 22:16:55,240 INFO namenode.NameNode: createNameNode [-format, -force]\n",
      "Formatting using clusterid: CID-88963bcc-895b-498d-9d9e-8bfde3833e23\n",
      "2020-04-16 22:16:57,066 INFO namenode.FSEditLog: Edit logging is async:true\n",
      "2020-04-16 22:16:57,117 INFO namenode.FSNamesystem: KeyProvider: null\n",
      "2020-04-16 22:16:57,119 INFO namenode.FSNamesystem: fsLock is fair: true\n",
      "2020-04-16 22:16:57,125 INFO namenode.FSNamesystem: Detailed lock hold time metrics enabled: false\n",
      "2020-04-16 22:16:57,130 INFO namenode.FSNamesystem: fsOwner             = hadoop (auth:SIMPLE)\n",
      "2020-04-16 22:16:57,131 INFO namenode.FSNamesystem: supergroup          = supergroup\n",
      "2020-04-16 22:16:57,131 INFO namenode.FSNamesystem: isPermissionEnabled = false\n",
      "2020-04-16 22:16:57,131 INFO namenode.FSNamesystem: HA Enabled: false\n",
      "2020-04-16 22:16:57,223 INFO common.Util: dfs.datanode.fileio.profiling.sampling.percentage set to 0. Disabling file IO profiling\n",
      "2020-04-16 22:16:57,251 INFO blockmanagement.DatanodeManager: dfs.block.invalidate.limit: configured=1000, counted=60, effected=1000\n",
      "2020-04-16 22:16:57,251 INFO blockmanagement.DatanodeManager: dfs.namenode.datanode.registration.ip-hostname-check=true\n",
      "2020-04-16 22:16:57,256 INFO blockmanagement.BlockManager: dfs.namenode.startup.delay.block.deletion.sec is set to 000:00:00:00.000\n",
      "2020-04-16 22:16:57,256 INFO blockmanagement.BlockManager: The block deletion will start around 2020 Apr 16 22:16:57\n",
      "2020-04-16 22:16:57,258 INFO util.GSet: Computing capacity for map BlocksMap\n",
      "2020-04-16 22:16:57,258 INFO util.GSet: VM type       = 64-bit\n",
      "2020-04-16 22:16:57,267 INFO util.GSet: 2.0% max memory 1.7 GB = 34.5 MB\n",
      "2020-04-16 22:16:57,267 INFO util.GSet: capacity      = 2^22 = 4194304 entries\n",
      "2020-04-16 22:16:57,280 INFO blockmanagement.BlockManager: dfs.block.access.token.enable = false\n",
      "2020-04-16 22:16:57,290 INFO Configuration.deprecation: No unit for dfs.namenode.safemode.extension(30000) assuming MILLISECONDS\n",
      "2020-04-16 22:16:57,290 INFO blockmanagement.BlockManagerSafeMode: dfs.namenode.safemode.threshold-pct = 0.9990000128746033\n",
      "2020-04-16 22:16:57,290 INFO blockmanagement.BlockManagerSafeMode: dfs.namenode.safemode.min.datanodes = 0\n",
      "2020-04-16 22:16:57,290 INFO blockmanagement.BlockManagerSafeMode: dfs.namenode.safemode.extension = 30000\n",
      "2020-04-16 22:16:57,290 INFO blockmanagement.BlockManager: defaultReplication         = 2\n",
      "2020-04-16 22:16:57,290 INFO blockmanagement.BlockManager: maxReplication             = 512\n",
      "2020-04-16 22:16:57,290 INFO blockmanagement.BlockManager: minReplication             = 1\n",
      "2020-04-16 22:16:57,290 INFO blockmanagement.BlockManager: maxReplicationStreams      = 2\n",
      "2020-04-16 22:16:57,291 INFO blockmanagement.BlockManager: redundancyRecheckInterval  = 3000ms\n",
      "2020-04-16 22:16:57,291 INFO blockmanagement.BlockManager: encryptDataTransfer        = false\n",
      "2020-04-16 22:16:57,291 INFO blockmanagement.BlockManager: maxNumBlocksToLog          = 1000\n",
      "2020-04-16 22:16:57,377 INFO namenode.FSDirectory: GLOBAL serial map: bits=24 maxEntries=16777215\n",
      "2020-04-16 22:16:57,407 INFO util.GSet: Computing capacity for map INodeMap\n",
      "2020-04-16 22:16:57,407 INFO util.GSet: VM type       = 64-bit\n",
      "2020-04-16 22:16:57,407 INFO util.GSet: 1.0% max memory 1.7 GB = 17.3 MB\n",
      "2020-04-16 22:16:57,407 INFO util.GSet: capacity      = 2^21 = 2097152 entries\n",
      "2020-04-16 22:16:57,434 INFO namenode.FSDirectory: ACLs enabled? false\n",
      "2020-04-16 22:16:57,434 INFO namenode.FSDirectory: POSIX ACL inheritance enabled? true\n",
      "2020-04-16 22:16:57,434 INFO namenode.FSDirectory: XAttrs enabled? true\n",
      "2020-04-16 22:16:57,434 INFO namenode.NameNode: Caching file names occurring more than 10 times\n",
      "2020-04-16 22:16:57,440 INFO snapshot.SnapshotManager: Loaded config captureOpenFiles: false, skipCaptureAccessTimeOnlyChange: false, snapshotDiffAllowSnapRootDescendant: true, maxSnapshotLimit: 65536\n",
      "2020-04-16 22:16:57,443 INFO snapshot.SnapshotManager: SkipList is disabled\n",
      "2020-04-16 22:16:57,458 INFO util.GSet: Computing capacity for map cachedBlocks\n",
      "2020-04-16 22:16:57,458 INFO util.GSet: VM type       = 64-bit\n",
      "2020-04-16 22:16:57,459 INFO util.GSet: 0.25% max memory 1.7 GB = 4.3 MB\n",
      "2020-04-16 22:16:57,459 INFO util.GSet: capacity      = 2^19 = 524288 entries\n",
      "2020-04-16 22:16:57,477 INFO metrics.TopMetrics: NNTop conf: dfs.namenode.top.window.num.buckets = 10\n",
      "2020-04-16 22:16:57,477 INFO metrics.TopMetrics: NNTop conf: dfs.namenode.top.num.users = 10\n",
      "2020-04-16 22:16:57,477 INFO metrics.TopMetrics: NNTop conf: dfs.namenode.top.windows.minutes = 1,5,25\n",
      "2020-04-16 22:16:57,484 INFO namenode.FSNamesystem: Retry cache on namenode is enabled\n",
      "2020-04-16 22:16:57,484 INFO namenode.FSNamesystem: Retry cache will use 0.03 of total heap and retry cache entry expiry time is 600000 millis\n",
      "2020-04-16 22:16:57,488 INFO util.GSet: Computing capacity for map NameNodeRetryCache\n",
      "2020-04-16 22:16:57,488 INFO util.GSet: VM type       = 64-bit\n",
      "2020-04-16 22:16:57,488 INFO util.GSet: 0.029999999329447746% max memory 1.7 GB = 530.4 KB\n",
      "2020-04-16 22:16:57,488 INFO util.GSet: capacity      = 2^16 = 65536 entries\n",
      "2020-04-16 22:16:57,620 INFO namenode.FSImage: Allocated new BlockPoolId: BP-1117530589-172.16.0.225-1587071817607\n",
      "2020-04-16 22:16:57,709 INFO common.Storage: Storage directory /opt/hdfs/namenode has been successfully formatted.\n",
      "2020-04-16 22:16:57,753 INFO namenode.FSImageFormatProtobuf: Saving image file /opt/hdfs/namenode/current/fsimage.ckpt_0000000000000000000 using no compression\n",
      "2020-04-16 22:16:57,897 INFO namenode.FSImageFormatProtobuf: Image file /opt/hdfs/namenode/current/fsimage.ckpt_0000000000000000000 of size 390 bytes saved in 0 seconds .\n",
      "2020-04-16 22:16:57,923 INFO namenode.NNStorageRetentionManager: Going to retain 1 images with txid >= 0\n",
      "2020-04-16 22:16:57,945 INFO namenode.FSImage: FSImageSaver clean checkpoint: txid = 0 when meet shutdown.\n",
      "2020-04-16 22:16:57,948 INFO namenode.NameNode: SHUTDOWN_MSG: \n",
      "/************************************************************\n",
      "SHUTDOWN_MSG: Shutting down NameNode at hadoop-namenode/172.16.0.225\n",
      "************************************************************/\n"
     ]
    }
   ],
   "source": [
    "host = NAMENODE_IP\n",
    "!ssh hadoop@{host} 'hdfs namenode -format -force'"
   ]
  },
  {
   "cell_type": "markdown",
   "metadata": {},
   "source": [
    "Creating the HDFS home folder for the `hadoop` user."
   ]
  },
  {
   "cell_type": "code",
   "execution_count": 23,
   "metadata": {},
   "outputs": [
    {
     "name": "stdout",
     "output_type": "stream",
     "text": [
      "Starting namenodes on [hadoop-namenode]\n",
      "Starting datanodes\n",
      "Starting secondary namenodes [hadoop-namenode]\n",
      "Stopping namenodes on [hadoop-namenode]\n",
      "Stopping datanodes\n",
      "Stopping secondary namenodes [hadoop-namenode]\n"
     ]
    }
   ],
   "source": [
    "!ssh hadoop@{host} 'start-dfs.sh'\n",
    "!ssh hadoop@{host} 'hadoop fs -mkdir -p /user/hadoop'\n",
    "!ssh hadoop@{host} 'stop-dfs.sh'"
   ]
  },
  {
   "cell_type": "markdown",
   "metadata": {},
   "source": [
    "Starting HDFS & YARN."
   ]
  },
  {
   "cell_type": "code",
   "execution_count": 24,
   "metadata": {
    "scrolled": true
   },
   "outputs": [
    {
     "name": "stdout",
     "output_type": "stream",
     "text": [
      "Starting namenodes on [hadoop-namenode]\n",
      "Starting datanodes\n",
      "Starting secondary namenodes [hadoop-namenode]\n",
      "Starting resourcemanager\n",
      "Starting nodemanagers\n"
     ]
    }
   ],
   "source": [
    "host = NAMENODE_IP\n",
    "!ssh hadoop@{host} 'start-dfs.sh'\n",
    "!ssh hadoop@{host} 'start-yarn.sh'"
   ]
  },
  {
   "cell_type": "markdown",
   "metadata": {},
   "source": [
    "Checking all daemons up and running. "
   ]
  },
  {
   "cell_type": "code",
   "execution_count": 25,
   "metadata": {},
   "outputs": [
    {
     "name": "stdout",
     "output_type": "stream",
     "text": [
      "===== \u001b[31mStarted on 172.16.0.225\u001b[0m =====\n",
      "jps\n",
      "219747 SecondaryNameNode\n",
      "219489 DataNode\n",
      "220262 NodeManager\n",
      "3000 HistoryServer\n",
      "220059 ResourceManager\n",
      "220699 Jps\n",
      "219263 NameNode\n",
      "===== \u001b[31mCompleted on 172.16.0.225\u001b[0m =====\n",
      "===== \u001b[31mStarted on 172.16.0.221\u001b[0m =====\n",
      "jps\n",
      "154352 Jps\n",
      "153968 DataNode\n",
      "154154 NodeManager\n",
      "===== \u001b[31mCompleted on 172.16.0.221\u001b[0m =====\n",
      "===== \u001b[31mStarted on 172.16.0.224\u001b[0m =====\n",
      "jps\n",
      "197748 Jps\n",
      "197364 DataNode\n",
      "197550 NodeManager\n",
      "===== \u001b[31mCompleted on 172.16.0.224\u001b[0m =====\n"
     ]
    }
   ],
   "source": [
    "for host in VMS:\n",
    "    run_ssh(host, 'jps')"
   ]
  },
  {
   "cell_type": "markdown",
   "metadata": {},
   "source": [
    "Run an example provided by Hadoop.\n",
    "* Wait a minute before running, the daemons should perform some initialization steps\n",
    "* Ignore initial errors `No such file or directory`\n",
    "* Ignore logger message by logger `sasl.SaslDataTransferClient`"
   ]
  },
  {
   "cell_type": "code",
   "execution_count": null,
   "metadata": {},
   "outputs": [
    {
     "name": "stdout",
     "output_type": "stream",
     "text": [
      "rm: `input': No such file or directory\r\n",
      "rm: `output': No such file or directory\r\n"
     ]
    }
   ],
   "source": [
    "host = NAMENODE_IP\n",
    "!ssh hadoop@{host} 'hadoop fs -rm -r input output'\n",
    "!ssh hadoop@{host} 'hadoop fs -put /opt/hadoop/etc/hadoop/ input'\n",
    "!ssh hadoop@{host} \"hadoop jar /opt/hadoop/share/hadoop/mapreduce/hadoop-mapreduce-examples-3.1.3.jar grep /user/hadoop/input/*.xml /user/hadoop/output 'dfs[a-z.]+'\"\n",
    "!ssh hadoop@{host} 'hadoop fs -cat output/part-r-00000'"
   ]
  },
  {
   "cell_type": "markdown",
   "metadata": {},
   "source": [
    "Stop HDFS & YARN."
   ]
  },
  {
   "cell_type": "code",
   "execution_count": null,
   "metadata": {},
   "outputs": [],
   "source": [
    "host = NAMENODE_IP\n",
    "!ssh hadoop@{host} 'stop-dfs.sh'\n",
    "!ssh hadoop@{host} 'stop-yarn.sh'"
   ]
  }
 ],
 "metadata": {
  "kernelspec": {
   "display_name": "Python 3",
   "language": "python",
   "name": "python3"
  },
  "language_info": {
   "codemirror_mode": {
    "name": "ipython",
    "version": 3
   },
   "file_extension": ".py",
   "mimetype": "text/x-python",
   "name": "python",
   "nbconvert_exporter": "python",
   "pygments_lexer": "ipython3",
   "version": "3.8.2"
  }
 },
 "nbformat": 4,
 "nbformat_minor": 2
}
